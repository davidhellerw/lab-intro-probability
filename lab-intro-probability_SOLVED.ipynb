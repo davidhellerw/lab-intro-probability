{
 "cells": [
  {
   "cell_type": "markdown",
   "metadata": {},
   "source": [
    "# Lab | Intro to Probability"
   ]
  },
  {
   "cell_type": "markdown",
   "metadata": {},
   "source": [
    "**Objective**\n",
    "\n",
    "Welcome to this Intro to Probability lab, where we explore decision-making scenarios through the lens of probability and strategic analysis. In the business world, making informed decisions is crucial, especially when faced with uncertainties. This lab focuses on scenarios where probabilistic outcomes play a significant role in shaping strategies and outcomes. Students will engage in exercises that require assessing and choosing optimal paths based on data-driven insights. The goal is to enhance your skills by applying probability concepts to solve real-world problems."
   ]
  },
  {
   "cell_type": "markdown",
   "metadata": {},
   "source": [
    "**Challenge 1**"
   ]
  },
  {
   "cell_type": "markdown",
   "metadata": {},
   "source": [
    "#### Ironhack Airlines \n",
    "\n",
    "Often Airlines sell more tickets than they have seats available, this is called overbooking. Consider the following:\n",
    "- A plane has 450 seats. \n",
    "- Based on historical data we conclude that each individual passenger has a 3% chance of missing it's flight. \n",
    "\n",
    "If the Ironhack Airlines routinely sells 460 tickets, what is the chance that they have a seats for all passenger?"
   ]
  },
  {
   "cell_type": "code",
   "execution_count": 7,
   "metadata": {},
   "outputs": [
    {
     "name": "stdout",
     "output_type": "stream",
     "text": [
      "Probability that there are enough seats for all passengers: 0.7374241268949284\n"
     ]
    }
   ],
   "source": [
    "from scipy.stats import binom\n",
    "\n",
    "# Number of seats available on the plane\n",
    "seats_available = 450\n",
    "\n",
    "# Number of tickets sold by Ironhack Airlines\n",
    "tickets_sold = 460\n",
    "\n",
    "# Probability of a passenger missing their flight\n",
    "p_miss = 0.03\n",
    "\n",
    "# Number of passengers who may miss their flight\n",
    "passengers_missing = int(tickets_sold - seats_available)\n",
    "\n",
    "# Probability that all passengers make their flight\n",
    "p_all_passengers_make_flight = binom.pmf(0, passengers_missing, p_miss)\n",
    "\n",
    "print(\"Probability that there are enough seats for all passengers:\", p_all_passengers_make_flight)\n"
   ]
  },
  {
   "cell_type": "markdown",
   "metadata": {},
   "source": [
    "**Challenge 2**"
   ]
  },
  {
   "cell_type": "markdown",
   "metadata": {},
   "source": [
    "#### Ironhack Call Center "
   ]
  },
  {
   "cell_type": "markdown",
   "metadata": {},
   "source": [
    "Suppose a customer service representative at a call center is handling customer complaints. Consider the following:\n",
    "- The probability of successfully resolving a customer complaint on the first attempt is 0.3. \n",
    "\n",
    "\n",
    "What is the probability that the representative needs to make at least three attempts before successfully resolving a customer complaint?"
   ]
  },
  {
   "cell_type": "code",
   "execution_count": 11,
   "metadata": {},
   "outputs": [
    {
     "name": "stdout",
     "output_type": "stream",
     "text": [
      "Probability of needing at least three attempts: 0.49\n"
     ]
    }
   ],
   "source": [
    "from scipy.stats import geom\n",
    "\n",
    "# Probability of successfully resolving a customer complaint on the first attempt\n",
    "p_success_first_attempt = 0.3\n",
    "\n",
    "# Create a geometric distribution object\n",
    "geom_dist = geom(p_success_first_attempt)\n",
    "\n",
    "# Probability of needing at least three attempts\n",
    "p_at_least_three_attempts = 1 - geom_dist.cdf(2)\n",
    "\n",
    "print(\"Probability of needing at least three attempts:\", p_at_least_three_attempts)\n"
   ]
  },
  {
   "cell_type": "markdown",
   "metadata": {},
   "source": [
    "**Challenge 3**"
   ]
  },
  {
   "cell_type": "markdown",
   "metadata": {},
   "source": [
    "#### Ironhack Website"
   ]
  },
  {
   "cell_type": "markdown",
   "metadata": {},
   "source": [
    "Consider a scenario related to Ironhack website traffic. Where:\n",
    "- our website takes on average 500 visits per hour.\n",
    "- the website's server is designed to handle up to 550 vists per hour.\n",
    "\n",
    "\n",
    "What is the probability of the website server being overwhelmed?"
   ]
  },
  {
   "cell_type": "code",
   "execution_count": 12,
   "metadata": {},
   "outputs": [
    {
     "name": "stdout",
     "output_type": "stream",
     "text": [
      "Probability of the server being overwhelmed: 0.01289822084039205\n"
     ]
    }
   ],
   "source": [
    "from scipy.stats import poisson\n",
    "\n",
    "# Average rate of website visits per hour\n",
    "average_visits_per_hour = 500\n",
    "\n",
    "# Server capacity\n",
    "server_capacity = 550\n",
    "\n",
    "# Create a Poisson distribution object\n",
    "poisson_dist = poisson(average_visits_per_hour)\n",
    "\n",
    "# Probability of the server being overwhelmed\n",
    "p_overwhelmed = 1 - poisson_dist.cdf(server_capacity)\n",
    "\n",
    "print(\"Probability of the server being overwhelmed:\", p_overwhelmed)\n"
   ]
  },
  {
   "cell_type": "markdown",
   "metadata": {},
   "source": [
    "What is the probability of being overwhelmed at some point during a day? (consider 24hours)"
   ]
  },
  {
   "cell_type": "code",
   "execution_count": 13,
   "metadata": {},
   "outputs": [
    {
     "name": "stdout",
     "output_type": "stream",
     "text": [
      "Probability of being overwhelmed at some point during the day: 0.2677043869515715\n"
     ]
    }
   ],
   "source": [
    "# Probability of not being overwhelmed in a single hour\n",
    "p_not_overwhelmed_hour = 1 - p_overwhelmed\n",
    "\n",
    "# Probability of not being overwhelmed in all 24 hours\n",
    "p_not_overwhelmed_day = p_not_overwhelmed_hour ** 24\n",
    "\n",
    "# Probability of being overwhelmed at some point during the day\n",
    "p_overwhelmed_day = 1 - p_not_overwhelmed_day\n",
    "\n",
    "print(\"Probability of being overwhelmed at some point during the day:\", p_overwhelmed_day)\n"
   ]
  },
  {
   "cell_type": "markdown",
   "metadata": {},
   "source": [
    "**Challenge 4**"
   ]
  },
  {
   "cell_type": "markdown",
   "metadata": {},
   "source": [
    "#### Ironhack Helpdesk"
   ]
  },
  {
   "cell_type": "markdown",
   "metadata": {},
   "source": [
    "Consider a scenario related to the time between arrivals of customers at a service desk.\n",
    "\n",
    "On average, a customers arrives every 10minutes.\n",
    "\n",
    "What is the probability that the next customer will arrive within the next 5 minutes?"
   ]
  },
  {
   "cell_type": "code",
   "execution_count": 14,
   "metadata": {},
   "outputs": [
    {
     "name": "stdout",
     "output_type": "stream",
     "text": [
      "Probability of the next customer arriving within the next 5 minutes: 0.3934693402873666\n"
     ]
    }
   ],
   "source": [
    "from scipy.stats import expon\n",
    "\n",
    "# Average time between customer arrivals (in minutes)\n",
    "average_time_between_arrivals = 10\n",
    "\n",
    "# Rate parameter\n",
    "rate_parameter = 1 / average_time_between_arrivals\n",
    "\n",
    "# Probability of the next customer arriving within the next 5 minutes\n",
    "p_arrival_within_5_minutes = expon.cdf(5, scale=1/rate_parameter)\n",
    "\n",
    "print(\"Probability of the next customer arriving within the next 5 minutes:\", p_arrival_within_5_minutes)\n"
   ]
  },
  {
   "cell_type": "markdown",
   "metadata": {},
   "source": [
    "If there is no customer for 15minutes, employees can that a 5minutes break.\n",
    "\n",
    "What is the probability an employee taking a break?"
   ]
  },
  {
   "cell_type": "code",
   "execution_count": 15,
   "metadata": {},
   "outputs": [
    {
     "name": "stdout",
     "output_type": "stream",
     "text": [
      "Probability of an employee taking a break: 0.2231301601484298\n"
     ]
    }
   ],
   "source": [
    "# Probability of a customer arriving within 15 minutes\n",
    "p_arrival_within_15_minutes = expon.cdf(15, scale=1/rate_parameter)\n",
    "\n",
    "# Probability of employee taking a break (if no customer for 15 minutes)\n",
    "p_employee_takes_break = 1 - p_arrival_within_15_minutes\n",
    "\n",
    "print(\"Probability of an employee taking a break:\", p_employee_takes_break)"
   ]
  },
  {
   "cell_type": "markdown",
   "metadata": {},
   "source": [
    "**Challenge 5**"
   ]
  },
  {
   "cell_type": "markdown",
   "metadata": {},
   "source": [
    "The weights of a certain species of birds follow a normal distribution with a mean weight of 150 grams and a standard deviation of 10 grams. \n",
    "\n",
    "- If we randomly select a bird, what is the probability that its weight is between 140 and 160 grams?"
   ]
  },
  {
   "cell_type": "code",
   "execution_count": 16,
   "metadata": {},
   "outputs": [
    {
     "name": "stdout",
     "output_type": "stream",
     "text": [
      "Probability of weight being between 140 and 160 grams: 0.6826894921370859\n"
     ]
    }
   ],
   "source": [
    "from scipy.stats import norm\n",
    "\n",
    "# Mean weight (mu) and standard deviation (sigma)\n",
    "mu = 150\n",
    "sigma = 10\n",
    "\n",
    "# Lower and upper bounds for weight range\n",
    "lower_bound = 140\n",
    "upper_bound = 160\n",
    "\n",
    "# Calculate z-scores for lower and upper bounds\n",
    "z_lower = (lower_bound - mu) / sigma\n",
    "z_upper = (upper_bound - mu) / sigma\n",
    "\n",
    "# Probability of weight being between 140 and 160 grams\n",
    "p_between_140_and_160 = norm.cdf(z_upper) - norm.cdf(z_lower)\n",
    "\n",
    "print(\"Probability of weight being between 140 and 160 grams:\", p_between_140_and_160)\n"
   ]
  },
  {
   "cell_type": "markdown",
   "metadata": {},
   "source": [
    "**Challenge 6**"
   ]
  },
  {
   "cell_type": "markdown",
   "metadata": {},
   "source": [
    "If the lifetime (in hours) of a certain electronic component follows an exponential distribution with a mean lifetime of 50 hours, what is the probability that the component fails within the first 30 hours?"
   ]
  },
  {
   "cell_type": "code",
   "execution_count": 17,
   "metadata": {},
   "outputs": [
    {
     "name": "stdout",
     "output_type": "stream",
     "text": [
      "Probability of the component failing within the first 30 hours: 0.4511883639059735\n"
     ]
    }
   ],
   "source": [
    "# Mean lifetime of the component\n",
    "mu = 50\n",
    "\n",
    "# Calculate lambda (rate parameter)\n",
    "lambda_ = 1 / mu\n",
    "\n",
    "# Probability of the component failing within the first 30 hours\n",
    "p_failure_within_30_hours = expon.cdf(30, scale=1/lambda_)\n",
    "\n",
    "print(\"Probability of the component failing within the first 30 hours:\", p_failure_within_30_hours)"
   ]
  }
 ],
 "metadata": {
  "kernelspec": {
   "display_name": "Python 3",
   "language": "python",
   "name": "python3"
  },
  "language_info": {
   "codemirror_mode": {
    "name": "ipython",
    "version": 3
   },
   "file_extension": ".py",
   "mimetype": "text/x-python",
   "name": "python",
   "nbconvert_exporter": "python",
   "pygments_lexer": "ipython3",
   "version": "3.11.7"
  }
 },
 "nbformat": 4,
 "nbformat_minor": 2
}
